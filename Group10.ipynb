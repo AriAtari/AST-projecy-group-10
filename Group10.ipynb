{
 "cells": [
  {
   "cell_type": "markdown",
   "metadata": {},
   "source": [
    "## AST Project 1\n",
    "### Collaborators: 'Oswald, Emma Jo', 'Kho, Jonathan Andrew', 'Andalib, Arian Alexander', 'Stone, Ashley Taylor'\n",
    "### Michigan State University\n",
    "### AST 304"
   ]
  },
  {
   "cell_type": "code",
   "execution_count": 1,
   "metadata": {},
   "outputs": [],
   "source": [
    "########################################################################\n",
    "# Team Spectacular Stellars: 'Oswald, Emma Jo', 'Kho, Jonathan Andrew', 'Andalib, Arian Alexander', 'Stone, Ashley Taylor'\n",
    "# AST 304, Fall 2022\n",
    "# Michigan State University\n",
    "########################################################################\n",
    "\n",
    "# The libraries used\n",
    "import matplotlib.pyplot as plt\n",
    "import numpy as np\n",
    "import pandas as pd\n",
    "import scipy.constants as sc\n",
    "%matplotlib inline"
   ]
  },
  {
   "cell_type": "markdown",
   "metadata": {},
   "source": [
    "\n",
    "### <u> _Problems and the Results:_"
   ]
  },
  {
   "cell_type": "markdown",
   "metadata": {},
   "source": [
    "##### 1. Implement routines that advance the solution to a system of ODE’s by one step h for the forward Euler, second-order Runge-Kutta, and fourth3 AST 304 Group Computational Project order Runge-Kutta. The partially completed routines are in the file ode.py in your project repository. Once you have the routines written, you will need to test them. The file test_ode.py. This test integrates the simpler system of equations for which you can verify that the solution is z(t) = {sin(ωt), cos(ωt)}. Run test_ode.py and compare the output of this test with the file sample_output. They should be close."
   ]
  },
  {
   "cell_type": "code",
   "execution_count": 15,
   "metadata": {},
   "outputs": [
    {
     "name": "stdout",
     "output_type": "stream",
     "text": [
      "\n",
      "====================Forward Euler====================\n",
      "integrating from t = 0.0 to t = 2.0 with 200 steps; h = 0.010\n",
      "\n",
      " step      t        z0     s0  |z0-s0|        z1     s1  |z1-s1|\n",
      "    5  0.050     0.312  0.309 2.66e-03     0.961  0.951 9.54e-03\n",
      "   10  0.100     0.599  0.588 1.10e-02     0.826  0.809 1.66e-02\n",
      "   15  0.150     0.833  0.809 2.35e-02     0.606  0.588 1.87e-02\n",
      "   20  0.200     0.989  0.951 3.77e-02     0.323  0.309 1.41e-02\n",
      "   25  0.250     1.050  1.000 5.05e-02     0.002 -0.000 2.17e-03\n",
      "   30  0.300     1.010  0.951 5.87e-02    -0.325 -0.309 1.63e-02\n",
      "   35  0.350     0.869  0.809 5.96e-02    -0.627 -0.588 3.95e-02\n",
      "   40  0.400     0.639  0.588 5.11e-02    -0.873 -0.809 6.42e-02\n",
      "   45  0.450     0.342  0.309 3.25e-02    -1.038 -0.951 8.69e-02\n",
      "   50  0.500     0.005 -0.000 4.55e-03    -1.104 -1.000 1.04e-01\n",
      "   55  0.550    -0.340 -0.309 3.06e-02    -1.061 -0.951 1.10e-01\n",
      "   60  0.600    -0.657 -0.588 6.92e-02    -0.914 -0.809 1.05e-01\n",
      "   65  0.650    -0.916 -0.809 1.07e-01    -0.673 -0.588 8.52e-02\n",
      "   70  0.700    -1.090 -0.951 1.39e-01    -0.361 -0.309 5.20e-02\n",
      "   75  0.750    -1.159 -1.000 1.59e-01    -0.007  0.000 7.17e-03\n",
      "   80  0.800    -1.116 -0.951 1.65e-01     0.354  0.309 4.54e-02\n",
      "   85  0.850    -0.961 -0.809 1.52e-01     0.688  0.588 1.00e-01\n",
      "   90  0.900    -0.709 -0.588 1.21e-01     0.961  0.809 1.52e-01\n",
      "   95  0.950    -0.382 -0.309 7.26e-02     1.144  0.951 1.93e-01\n",
      "  100  1.000    -0.010  0.000 1.00e-02     1.218  1.000 2.18e-01\n",
      "  105  1.050     0.370  0.309 6.09e-02     1.173  0.951 2.22e-01\n",
      "  110  1.100     0.721  0.588 1.33e-01     1.011  0.809 2.02e-01\n",
      "  115  1.150     1.008  0.809 1.99e-01     0.747  0.588 1.59e-01\n",
      "  120  1.200     1.201  0.951 2.50e-01     0.403  0.309 9.43e-02\n",
      "  125  1.250     1.279  1.000 2.79e-01     0.013 -0.000 1.32e-02\n",
      "  130  1.300     1.233  0.951 2.82e-01    -0.386 -0.309 7.70e-02\n",
      "  135  1.350     1.064  0.809 2.55e-01    -0.755 -0.588 1.67e-01\n",
      "  140  1.400     0.787  0.588 1.99e-01    -1.057 -0.809 2.48e-01\n",
      "  145  1.450     0.426  0.309 1.17e-01    -1.260 -0.951 3.09e-01\n",
      "  150  1.500     0.017 -0.000 1.66e-02    -1.344 -1.000 3.44e-01\n",
      "  155  1.550    -0.403 -0.309 9.38e-02    -1.296 -0.951 3.45e-01\n",
      "  160  1.600    -0.791 -0.588 2.03e-01    -1.119 -0.809 3.10e-01\n",
      "  165  1.650    -1.109 -0.809 3.00e-01    -0.829 -0.588 2.41e-01\n",
      "  170  1.700    -1.323 -0.951 3.72e-01    -0.451 -0.309 1.42e-01\n",
      "  175  1.750    -1.411 -1.000 4.11e-01    -0.020  0.000 2.04e-02\n",
      "  180  1.800    -1.362 -0.951 4.11e-01     0.420  0.309 1.11e-01\n",
      "  185  1.850    -1.178 -0.809 3.69e-01     0.828  0.588 2.41e-01\n",
      "  190  1.900    -0.873 -0.588 2.85e-01     1.163  0.809 3.54e-01\n",
      "  195  1.950    -0.476 -0.309 1.67e-01     1.389  0.951 4.38e-01\n",
      "  200  2.000    -0.024  0.000 2.45e-02     1.483  1.000 4.83e-01\n",
      "\n",
      "================2nd order Runge-Kutta================\n",
      "integrating from t = 0.0 to t = 2.0 with 200 steps; h = 0.010\n",
      "\n",
      " step      t        z0     s0  |z0-s0|        z1     s1  |z1-s1|\n",
      "    5  0.050   -4825899027.336  0.309 4.83e+09   40918083689.367  0.951 4.09e+10\n",
      "   10  0.100   -17634924821504016.000  0.588 1.76e+16   -48755511276283448.000  0.809 4.88e+16\n",
      "   15  0.150   -966427610311535493120.000  0.809 9.66e+20   2210544945391746154496.000  0.588 2.21e+21\n",
      "   20  0.200   16336190205526795167465472.000  0.951 1.63e+25   3855415787148988309831680.000  0.309 3.86e+24\n",
      "   25  0.250   12587090170394200651994234880.000  1.000 1.26e+28   -27838503177490225743305637888.000 -0.000 2.78e+28\n",
      "   30  0.300   -12778801450621178249289467428864.000  0.951 1.28e+31   -14893618600618851353643039326208.000 -0.309 1.49e+31\n",
      "   35  0.350   -5337168899480909806049845410004992.000  0.809 5.34e+33   538841349302953571455174463979520.000 -0.588 5.39e+32\n",
      "   40  0.400   -420839651830728192850391016186839040.000  0.588 4.21e+35   571565655640546586047733685295251456.000 -0.809 5.72e+35\n",
      "   45  0.450   5155652124528379669526734228835794944.000  0.309 5.16e+36   49691707065205356226166396237400506368.000 -0.951 4.97e+37\n",
      "   50  0.500   1391340301934710732637630040261898797056.000 -0.000 1.39e+39   1451499594011422869818265419059923255296.000 -1.000 1.45e+39\n",
      "   55  0.550   47933528389235970446703568708358742474752.000 -0.309 4.79e+40   10133372555912585311897903951874896166912.000 -0.951 1.01e+40\n",
      "   60  0.600   714272027719996427194214749224357706334208.000 -0.588 7.14e+41   -251101333079408603945837548509290603479040.000 -0.809 2.51e+41\n",
      "   65  0.650   5142262217488894348363937046036279562600448.000 -0.809 5.14e+42   -5746773255461405853790710894640592572121088.000 -0.588 5.75e+42\n",
      "   70  0.700   13969100719234816539917943050109185748369408.000 -0.951 1.40e+43   -51616814015038820509725800589895039285460992.000 -0.309 5.16e+43\n",
      "   75  0.750   -43724174408872623144834084465291127267786752.000 -1.000 4.37e+43   -255820817300427021169883756254717913394577408.000  0.000 2.56e+44\n",
      "   80  0.800   -491028627480590591609647024625938069287075840.000 -0.951 4.91e+44   -757829531429099946415179905021593551634432000.000  0.309 7.58e+44\n",
      "   85  0.850   -1878855314260679827818094886844906435747250176.000 -0.809 1.88e+45   -1326595027090412045470205002010682271079596032.000  0.588 1.33e+45\n",
      "   90  0.900   -4226426255332219693241731674557588860332670976.000 -0.588 4.23e+45   -1103799907188311055545353647062215893889056768.000  0.809 1.10e+45\n",
      "   95  0.950   -6265705431473831410636194224740186432609452032.000 -0.309 6.27e+45   530417606673199975763772889764649263358279680.000  0.951 5.30e+44\n",
      "  100  1.000   -6393474897687318615450412186915125856707805184.000  0.000 6.39e+45   2755582700179740739556550293306145246223007744.000  1.000 2.76e+45\n",
      "  105  1.050   -4540951495711749223579101185197298594378416128.000  0.309 4.54e+45   3932403777605975848813805436841792206708670464.000  0.951 3.93e+45\n",
      "  110  1.100   -2187095842923422284625713744243467872804798464.000  0.588 2.19e+45   3453085525166575891908128198321995660790857728.000  0.809 3.45e+45\n",
      "  115  1.150   -623608229216160223317601690961811852647989248.000  0.809 6.24e+44   2127725396263537827053819994334391786042032128.000  0.588 2.13e+45\n",
      "  120  1.200   -16944535401015656930556828112141415492878336.000  0.951 1.69e+43   968167149640505546814523273289351636143046656.000  0.309 9.68e+44\n",
      "  125  1.250   81389813303448349341359940416533712682876928.000  1.000 8.14e+43   333774319640959823286058390444709285111791616.000 -0.000 3.34e+44\n",
      "  130  1.300   46621597761375672996596224616366487854120960.000  0.951 4.66e+43   88299563195478562055373073269192347321630720.000 -0.309 8.83e+43\n",
      "  135  1.350   15852439475654463777179389112653578651041792.000  0.809 1.59e+43   17961923548631028290690377343609782990274560.000 -0.588 1.80e+43\n",
      "  140  1.400   3891890915931631734024700020866519685660672.000  0.588 3.89e+42   2772755370569296206409212758790741090631680.000 -0.809 2.77e+42\n",
      "  145  1.450   735217964226586247309288330003949918617600.000  0.309 7.35e+41   309444083195596206947394795590780062793728.000 -0.951 3.09e+41\n",
      "  150  1.500   110203553282802833833155836076355770908672.000 -0.000 1.10e+41   20648237043415845290249676244631091675136.000 -1.000 2.06e+40\n",
      "  155  1.550   13343266027063381671550201888706125627392.000 -0.309 1.33e+40   -279673327414361181879932206317291175936.000 -0.951 2.80e+38\n",
      "  160  1.600   1319819168277853657088111382270039818240.000 -0.588 1.32e+39   -295945651395915139655391952305920147456.000 -0.809 2.96e+38\n",
      "  165  1.650   107387172633856602023795637612546359296.000 -0.809 1.07e+38   -47193760511771416017832089926385008640.000 -0.588 4.72e+37\n",
      "  170  1.700   7209444102101285701631066759642480640.000 -0.951 7.21e+36   -4950996590205048881510328690934808576.000 -0.309 4.95e+36\n",
      "  175  1.750   398726085007410663787592535609704448.000 -1.000 3.99e+35   -397637271797242610039534261739978752.000  0.000 3.98e+35\n",
      "  180  1.800   18002889078511777347221719114317824.000 -0.951 1.80e+34   -25777950201997543938979379604881408.000  0.309 2.58e+34\n",
      "  185  1.850   647400756780883822332999706345472.000 -0.809 6.47e+32   -1384604320661809039405627308244992.000  0.588 1.38e+33\n",
      "  190  1.900   17300598913566027735287015145472.000 -0.588 1.73e+31   -62585960756340401110684457238528.000  0.809 6.26e+31\n",
      "  195  1.950   256859883959910806011177336832.000 -0.309 2.57e+29   -2405509225482432369949006626816.000  0.951 2.41e+30\n",
      "  200  2.000   -4185993863213816173056491520.000  0.000 4.19e+27   -79199383773402519094024994816.000  1.000 7.92e+28\n",
      "\n",
      "================4th order Runge-Kutta================\n",
      "integrating from t = 0.0 to t = 2.0 with 200 steps; h = 0.010\n",
      "\n",
      " step      t        z0     s0  |z0-s0|        z1     s1  |z1-s1|\n",
      "    5  0.050     0.309  0.309 3.94e-08     0.951  0.951 1.06e-08\n",
      "   10  0.100     0.588  0.588 6.84e-08     0.809  0.809 4.44e-08\n",
      "   15  0.150     0.809  0.809 7.70e-08     0.588  0.588 9.51e-08\n",
      "   20  0.200     0.951  0.951 5.85e-08     0.309  0.309 1.52e-07\n",
      "   25  0.250     1.000  1.000 1.07e-08     0.000 -0.000 2.04e-07\n",
      "   30  0.300     0.951  0.951 6.34e-08    -0.309 -0.309 2.36e-07\n",
      "   35  0.350     0.809  0.809 1.56e-07    -0.588 -0.588 2.40e-07\n",
      "   40  0.400     0.588  0.588 2.54e-07    -0.809 -0.809 2.05e-07\n",
      "   45  0.450     0.309  0.309 3.43e-07    -0.951 -0.951 1.32e-07\n",
      "   50  0.500     0.000 -0.000 4.07e-07    -1.000 -1.000 2.14e-08\n",
      "   55  0.550    -0.309 -0.309 4.34e-07    -0.951 -0.951 1.16e-07\n",
      "   60  0.600    -0.588 -0.588 4.11e-07    -0.809 -0.809 2.67e-07\n",
      "   65  0.650    -0.809 -0.809 3.34e-07    -0.588 -0.588 4.12e-07\n",
      "   70  0.700    -0.951 -0.951 2.05e-07    -0.309 -0.309 5.33e-07\n",
      "   75  0.750    -1.000 -1.000 3.20e-08    -0.000  0.000 6.11e-07\n",
      "   80  0.800    -0.951 -0.951 1.69e-07     0.309  0.309 6.31e-07\n",
      "   85  0.850    -0.809 -0.809 3.78e-07     0.588  0.588 5.82e-07\n",
      "   90  0.900    -0.588 -0.588 5.71e-07     0.809  0.809 4.62e-07\n",
      "   95  0.950    -0.309 -0.309 7.24e-07     0.951  0.951 2.78e-07\n",
      "  100  1.000    -0.000  0.000 8.15e-07     1.000  1.000 4.27e-08\n",
      "  105  1.050     0.309  0.309 8.28e-07     0.951  0.951 2.22e-07\n",
      "  110  1.100     0.588  0.588 7.53e-07     0.809  0.809 4.89e-07\n",
      "  115  1.150     0.809  0.809 5.91e-07     0.588  0.588 7.29e-07\n",
      "  120  1.200     0.951  0.951 3.51e-07     0.309  0.309 9.14e-07\n",
      "  125  1.250     1.000  1.000 5.34e-08     0.000 -0.000 1.02e-06\n",
      "  130  1.300     0.951  0.951 2.75e-07    -0.309 -0.309 1.02e-06\n",
      "  135  1.350     0.809  0.809 6.00e-07    -0.588 -0.588 9.24e-07\n",
      "  140  1.400     0.588  0.588 8.88e-07    -0.809 -0.809 7.19e-07\n",
      "  145  1.450     0.309  0.309 1.10e-06    -0.951 -0.951 4.24e-07\n",
      "  150  1.500     0.000 -0.000 1.22e-06    -1.000 -1.000 6.41e-08\n",
      "  155  1.550    -0.309 -0.309 1.22e-06    -0.951 -0.951 3.27e-07\n",
      "  160  1.600    -0.588 -0.588 1.09e-06    -0.809 -0.809 7.11e-07\n",
      "  165  1.650    -0.809 -0.809 8.47e-07    -0.588 -0.588 1.05e-06\n",
      "  170  1.700    -0.951 -0.951 4.97e-07    -0.309 -0.309 1.30e-06\n",
      "  175  1.750    -1.000 -1.000 7.47e-08    -0.000  0.000 1.43e-06\n",
      "  180  1.800    -0.951 -0.951 3.80e-07     0.309  0.309 1.42e-06\n",
      "  185  1.850    -0.809 -0.809 8.22e-07     0.588  0.588 1.27e-06\n",
      "  190  1.900    -0.588 -0.588 1.20e-06     0.809  0.809 9.76e-07\n",
      "  195  1.950    -0.309 -0.309 1.49e-06     0.951  0.951 5.70e-07\n",
      "  200  2.000    -0.000  0.000 1.63e-06     1.000  1.000 8.54e-08\n"
     ]
    }
   ],
   "source": [
    "# unit test for integration methods\n",
    "# do not alter this file\n",
    "\n",
    "# our test problem is to integrate\n",
    "#   dz/dt = [ w*z[1], -w*z[0] ]\n",
    "# with initial conditions\n",
    "#   z(t=0) = [ 0.0, 1.0 ].\n",
    "# The solution is z = [ sin(w*t), cos(w*t) ].  For this test, we set\n",
    "# w = 2*pi, and integrate from t = 0 to t = 2.\n",
    "#\n",
    "\n",
    "import numpy as np\n",
    "from ode import fEuler, rk2, rk4\n",
    "\n",
    "integration_methods = {\n",
    "        'Euler': fEuler,\n",
    "        'RK2': rk2,\n",
    "        'RK4': rk4\n",
    "        }\n",
    "\n",
    "def f(t,z,w):\n",
    "    \"\"\"\n",
    "    function returning RHS of our ODE.\n",
    "    \n",
    "    Arguments\n",
    "        t (scalar)\n",
    "        z (2 dimensional array)            \n",
    "        w (scalar)\n",
    "    Returns\n",
    "        dzdt (2-D numpy array)\n",
    "    \"\"\"\n",
    "    dzdt = np.zeros_like(z)\n",
    "    dzdt[0] =  w*z[1]\n",
    "    dzdt[1] = -w*z[0]\n",
    "    return dzdt\n",
    "\n",
    "def soln(t,w):\n",
    "    \"\"\"\n",
    "    returns analytical solution of ODE\n",
    "    Arguments\n",
    "        t (scalar or array-like)\n",
    "            independent variable\n",
    "        w (scalar)\n",
    "            parameter in system of ODEs\n",
    "    Returns\n",
    "        2-d solution array at times in argument t\n",
    "    \"\"\"\n",
    "    return np.array([np.sin(w*t),np.cos(w*t)])\n",
    "\n",
    "def do_one(method):\n",
    "    # set initial conditions\n",
    "    z = np.zeros(2)\n",
    "    z[1] = 1.0\n",
    "\n",
    "    # period is 1.0, frequency is 2*pi, stepsize is 1/100 of a period\n",
    "    P = 1.0\n",
    "    w = 2.0*np.pi/P\n",
    "    h = P/100.0\n",
    "\n",
    "    # we'll integrate from t = 0 to t = t_f = 2*P\n",
    "    t = 0.0\n",
    "    t_f = 2*P\n",
    "    # Number of steps\n",
    "    N = int(t_f/h)\n",
    "\n",
    "    # check everything!\n",
    "    print('integrating from t = {0} to t = {1} with {2} steps; h = {3:5.3f}\\n'.\\\n",
    "        format(t,t_f,N,h))\n",
    "    \n",
    "    # print every 5th line\n",
    "    PRINT_INTERVAL = 5\n",
    "    # counter for steps\n",
    "    cnt = 0\n",
    "    # format for outputing results\n",
    "    fmt = '{0:5d}{1:7.3f}   {2:7.3f}{3:7.3f}{4:9.2e}   {5:7.3f}{6:7.3f}{7:9.2e}'\n",
    "    # format for header\n",
    "    head_fmt = '{0:>5s}{1:>7s}   {2:>7s}{3:>7s}{4:>9s}   {5:>7s}{6:>7s}{7:>9s}'\n",
    "    print(head_fmt.format(\n",
    "        'step','t','z0','s0','|z0-s0|','z1','s1','|z1-s1|')\n",
    "    )\n",
    "    stepper = integration_methods[method]\n",
    "    for step in range(N):\n",
    "        z = stepper(f,t,z,h,args=w)\n",
    "        t += h\n",
    "        cnt += 1\n",
    "        if (cnt % PRINT_INTERVAL == 0):\n",
    "            zs = soln(t,w)\n",
    "            resid = np.abs(z-zs)\n",
    "            print(fmt.format(cnt,t,z[0],zs[0],resid[0],z[1],zs[1],resid[1]))\n",
    "\n",
    "print('\\n====================Forward Euler====================')\n",
    "do_one('Euler')\n",
    "print('\\n================2nd order Runge-Kutta================')\n",
    "do_one('RK2')\n",
    "print('\\n================4th order Runge-Kutta================')\n",
    "do_one('RK4')"
   ]
  },
  {
   "cell_type": "markdown",
   "metadata": {},
   "source": [
    "- ##### Write a python script that uses the functions in ode.py and kepler.py to do the following. For each of the three integration methods, integrate the equations of motion over 3 orbital periods, and compute the relative error in the total energy at the end of this time. Take the semi-major axis a = 1 and total mass m = 1. Make the ellipse have an eccentricity of e = 0.5 so that x0 = (1 + e)a = 1.5a. Do each integration for a range of step sizes h =h0, h0/2, h0/4, . . . h0/1024, where h0 = 0.1 T with T being the expected orbital period. Plot the error in the energy as a function of h. Does it scale as expected? Is it better to use linear or logarithmic axes in plotting the error?"
   ]
  },
  {
   "cell_type": "code",
   "execution_count": 2,
   "metadata": {},
   "outputs": [],
   "source": [
    "from ode import * # fEuler, rk2, rk4\n",
    "from kepler import * # kinetic_energy, potential_energy, total_energy, derivs, integrate_orbit, set_initial_conditions, integration_methods\n",
    "import numpy as np\n",
    "import matplotlib.pyplot as plt\n",
    "\n",
    "# Initial setup\n",
    "a = 1 # AU\n",
    "m = 1 # Solar mass\n",
    "e = 0.5 # Eccentricity\n",
    "G = 6.6743*10**-11 # Gravitational constant\n",
    "\n",
    "\n",
    "\n",
    "init, eps0, T = set_initial_conditions(a,m,e)\n",
    "\n",
    "# Expected energy of the system\n",
    "Energy = total_energy(init,m)\n",
    "\n",
    "h0 = 0.1*T # T = expected orbital period\n",
    "\n",
    "sizes = [2**x for x in range(0,11)]\n",
    "steps = [h0/n for n in sizes]"
   ]
  },
  {
   "cell_type": "code",
   "execution_count": 3,
   "metadata": {},
   "outputs": [],
   "source": [
    "# fEuler \n",
    "\n",
    "# List with position, velocity, energy, and times for all step sizes\n",
    "Eulervals = []\n",
    "\n",
    "for i in range(len(steps)):\n",
    "    ts, Xs, Ys, KEs, PEs, TEs = integrate_orbit(z0 = init,m=m,tend = 3*T,h = steps[i],method='Euler')\n",
    "    \n",
    "    Eulervals.append([ts,Xs,Ys,KEs,PEs,TEs])"
   ]
  },
  {
   "cell_type": "code",
   "execution_count": 13,
   "metadata": {},
   "outputs": [
    {
     "data": {
      "text/plain": [
       "Text(0.5, 1.0, 'Relative Error in Energy vs. step size for Forward Euler')"
      ]
     },
     "execution_count": 13,
     "metadata": {},
     "output_type": "execute_result"
    },
    {
     "data": {
      "image/png": "[encoded data removed]",
      "text/plain": [
       "<Figure size 432x288 with 1 Axes>"
      ]
     },
     "metadata": {
      "needs_background": "light"
     },
     "output_type": "display_data"
    }
   ],
   "source": [
    "plt.scatter(steps[0],Eulervals[0][-1][-1]-Energy,s = 10,color = 'b')\n",
    "plt.scatter(steps[1],Eulervals[1][-1][-1]-Energy,s = 10,color = 'b')\n",
    "plt.scatter(steps[2],Eulervals[2][-1][-1]-Energy,s = 10,color = 'b')\n",
    "plt.scatter(steps[3],Eulervals[3][-1][-1]-Energy,s = 10,color = 'b')\n",
    "plt.scatter(steps[4],Eulervals[4][-1][-1]-Energy,s = 10,color = 'b')\n",
    "plt.scatter(steps[5],Eulervals[5][-1][-1]-Energy,s = 10,color = 'b')\n",
    "plt.scatter(steps[6],Eulervals[6][-1][-1]-Energy,s = 10,color = 'b')\n",
    "plt.scatter(steps[7],Eulervals[7][-1][-1]-Energy,s = 10,color = 'b')\n",
    "plt.scatter(steps[8],Eulervals[8][-1][-1]-Energy,s = 10,color = 'b')\n",
    "plt.scatter(steps[9],Eulervals[9][-1][-1]-Energy,s = 10,color = 'b')\n",
    "plt.scatter(steps[10],Eulervals[10][-1][-1]-Energy,s = 10,color = 'b')\n",
    "plt.xlabel('Step size [s]')\n",
    "plt.ylabel('Relative Error in total energy')\n",
    "plt.title('Relative Error in Energy vs. step size for Forward Euler')"
   ]
  },
  {
   "cell_type": "code",
   "execution_count": 14,
   "metadata": {},
   "outputs": [
    {
     "name": "stderr",
     "output_type": "stream",
     "text": [
      "/Users/jkho/Documents/MSU Fall 2022/AST 304/AST-projecy-group-10/kepler.py:97: RuntimeWarning: overflow encountered in double_scalars\n",
      "  ax = -m/r_current**3*norm_x\n",
      "/Users/jkho/Documents/MSU Fall 2022/AST 304/AST-projecy-group-10/kepler.py:98: RuntimeWarning: overflow encountered in double_scalars\n",
      "  ay = -m/r_current**3*norm_y\n",
      "/Users/jkho/Documents/MSU Fall 2022/AST 304/AST-projecy-group-10/kepler.py:98: RuntimeWarning: invalid value encountered in double_scalars\n",
      "  ay = -m/r_current**3*norm_y\n",
      "/Users/jkho/Documents/MSU Fall 2022/AST 304/AST-projecy-group-10/kepler.py:97: RuntimeWarning: invalid value encountered in double_scalars\n",
      "  ax = -m/r_current**3*norm_x\n"
     ]
    }
   ],
   "source": [
    "# RK2\n",
    "\n",
    "# List with position, velocity, energy, and times for all step sizes\n",
    "RK2vals = []\n",
    "\n",
    "for i in range(len(steps)):\n",
    "    ts, Xs, Ys, KEs, PEs, TEs = integrate_orbit(z0 = init,m=m,tend = 3*T,h = steps[i],method='RK2')\n",
    "    \n",
    "    RK2vals.append([ts,Xs,Ys,KEs,PEs,TEs])"
   ]
  },
  {
   "cell_type": "code",
   "execution_count": 18,
   "metadata": {},
   "outputs": [
    {
     "data": {
      "text/plain": [
       "Text(0.5, 1.0, 'Relative Error in Energy vs. step size for RK2')"
      ]
     },
     "execution_count": 18,
     "metadata": {},
     "output_type": "execute_result"
    },
    {
     "data": {
      "image/png": "[encoded data removed]",
      "text/plain": [
       "<Figure size 432x288 with 1 Axes>"
      ]
     },
     "metadata": {
      "needs_background": "light"
     },
     "output_type": "display_data"
    }
   ],
   "source": [
    "plt.scatter(steps[0],RK2vals[0][-1][-1]-Energy,s = 10,color = 'b')\n",
    "plt.scatter(steps[1],RK2vals[1][-1][-1]-Energy,s = 10,color = 'b')\n",
    "plt.scatter(steps[2],RK2vals[2][-1][-1]-Energy,s = 10,color = 'b')\n",
    "plt.scatter(steps[3],RK2vals[3][-1][-1]-Energy,s = 10,color = 'b')\n",
    "plt.scatter(steps[4],RK2vals[4][-1][-1]-Energy,s = 10,color = 'b')\n",
    "plt.scatter(steps[5],RK2vals[5][-1][-1]-Energy,s = 10,color = 'b')\n",
    "plt.scatter(steps[6],RK2vals[6][-1][-1]-Energy,s = 10,color = 'b')\n",
    "plt.scatter(steps[7],RK2vals[7][-1][-1]-Energy,s = 10,color = 'b')\n",
    "plt.scatter(steps[8],RK2vals[8][-1][-1]-Energy,s = 10,color = 'b')\n",
    "plt.scatter(steps[9],RK2vals[9][-1][-1]-Energy,s = 10,color = 'b')\n",
    "plt.scatter(steps[10],RK2vals[10][-1][-1]-Energy,s = 10,color = 'b')\n",
    "plt.xlabel('Step size [s]')\n",
    "plt.ylabel('Relative Error in total energy')\n",
    "plt.title('Relative Error in Energy vs. step size for RK2')"
   ]
  },
  {
   "cell_type": "code",
   "execution_count": 19,
   "metadata": {},
   "outputs": [],
   "source": [
    "# RK4\n",
    "\n",
    "# List with position, velocity, energy, and times for all step sizes\n",
    "RK4vals = []\n",
    "\n",
    "for i in range(len(steps)):\n",
    "    ts, Xs, Ys, KEs, PEs, TEs = integrate_orbit(z0 = init,m=m,tend = 3*T,h = steps[i],method='RK4')\n",
    "    \n",
    "    RK4vals.append([ts,Xs,Ys,KEs,PEs,TEs])"
   ]
  },
  {
   "cell_type": "code",
   "execution_count": 20,
   "metadata": {},
   "outputs": [
    {
     "data": {
      "text/plain": [
       "Text(0.5, 1.0, 'Relative Error in Energy vs. step size for RK4')"
      ]
     },
     "execution_count": 20,
     "metadata": {},
     "output_type": "execute_result"
    },
    {
     "data": {
      "image/png": "[encoded data removed]",
      "text/plain": [
       "<Figure size 432x288 with 1 Axes>"
      ]
     },
     "metadata": {
      "needs_background": "light"
     },
     "output_type": "display_data"
    }
   ],
   "source": [
    "plt.scatter(steps[0],RK4vals[0][-1][-1]-Energy,s = 10,color = 'b')\n",
    "plt.scatter(steps[1],RK4vals[1][-1][-1]-Energy,s = 10,color = 'b')\n",
    "plt.scatter(steps[2],RK4vals[2][-1][-1]-Energy,s = 10,color = 'b')\n",
    "plt.scatter(steps[3],RK4vals[3][-1][-1]-Energy,s = 10,color = 'b')\n",
    "plt.scatter(steps[4],RK4vals[4][-1][-1]-Energy,s = 10,color = 'b')\n",
    "plt.scatter(steps[5],RK4vals[5][-1][-1]-Energy,s = 10,color = 'b')\n",
    "plt.scatter(steps[6],RK4vals[6][-1][-1]-Energy,s = 10,color = 'b')\n",
    "plt.scatter(steps[7],RK4vals[7][-1][-1]-Energy,s = 10,color = 'b')\n",
    "plt.scatter(steps[8],RK4vals[8][-1][-1]-Energy,s = 10,color = 'b')\n",
    "plt.scatter(steps[9],RK4vals[9][-1][-1]-Energy,s = 10,color = 'b')\n",
    "plt.scatter(steps[10],RK4vals[10][-1][-1]-Energy,s = 10,color = 'b')\n",
    "plt.xlabel('Step size [s]')\n",
    "plt.ylabel('Relative Error in total energy')\n",
    "plt.title('Relative Error in Energy vs. step size for RK4')"
   ]
  },
  {
   "cell_type": "markdown",
   "metadata": {},
   "source": [
    "- #####  For the smallest and largest values of h for each of the three integration methods, plot the particle trajectory. Does the orbit close? Is it an ellipse? Does it have the correct semi-major axis? Also plot the energies— potential, kinetic, and total—as a function of time. Put the energies all on the same plot.\n"
   ]
  },
  {
   "cell_type": "code",
   "execution_count": 9,
   "metadata": {},
   "outputs": [
    {
     "data": {
      "text/plain": [
       "[<matplotlib.lines.Line2D at 0x2a0ddacfe50>]"
      ]
     },
     "execution_count": 9,
     "metadata": {},
     "output_type": "execute_result"
    },
    {
     "data": {
      "image/png": "[encoded data removed]",
      "text/plain": [
       "<Figure size 432x288 with 2 Axes>"
      ]
     },
     "metadata": {
      "needs_background": "light"
     },
     "output_type": "display_data"
    }
   ],
   "source": [
    "# Euler orbits\n",
    "\n",
    "plt.subplot(121)\n",
    "plt.plot(Eulervals[0][1],Eulervals[0][2])\n",
    "\n",
    "plt.subplot(122)\n",
    "plt.plot(Eulervals[10][1],Eulervals[10][2])"
   ]
  },
  {
   "cell_type": "code",
   "execution_count": 10,
   "metadata": {},
   "outputs": [
    {
     "data": {
      "text/plain": [
       "[<matplotlib.lines.Line2D at 0x2a0ddab21f0>]"
      ]
     },
     "execution_count": 10,
     "metadata": {},
     "output_type": "execute_result"
    },
    {
     "data": {
      "image/png": "[encoded data removed]",
      "text/plain": [
       "<Figure size 432x288 with 1 Axes>"
      ]
     },
     "metadata": {
      "needs_background": "light"
     },
     "output_type": "display_data"
    }
   ],
   "source": [
    "# Euler energies\n",
    "\n",
    "plt.plot(Eulervals[0][3],Eulervals[0][0],label = 'h0 KE')\n",
    "plt.plot(Eulervals[0][4],Eulervals[0][2],label = 'h0 PE')\n",
    "plt.plot(Eulervals[0][5],Eulervals[0][2],label = 'h0 TE')\n",
    "\n",
    "plt.plot(Eulervals[10][3],Eulervals[10][0],label = 'h0/1024 KE')\n",
    "plt.plot(Eulervals[10][4],Eulervals[10][2],label = 'h0/1024 PE')\n",
    "plt.plot(Eulervals[10][5],Eulervals[10][2],label = 'h0/1024 TE')"
   ]
  },
  {
   "cell_type": "code",
   "execution_count": 11,
   "metadata": {},
   "outputs": [
    {
     "data": {
      "text/plain": [
       "[<matplotlib.lines.Line2D at 0x2a0ddbd5610>]"
      ]
     },
     "execution_count": 11,
     "metadata": {},
     "output_type": "execute_result"
    },
    {
     "data": {
      "image/png": "[encoded data removed]",
      "text/plain": [
       "<Figure size 432x288 with 2 Axes>"
      ]
     },
     "metadata": {
      "needs_background": "light"
     },
     "output_type": "display_data"
    }
   ],
   "source": [
    "# RK2 orbits\n",
    "\n",
    "plt.subplot(121)\n",
    "plt.plot(RK2vals[0][1],RK2vals[0][2])\n",
    "\n",
    "plt.subplot(122)\n",
    "plt.plot(RK2vals[10][1],RK2vals[10][2])"
   ]
  },
  {
   "cell_type": "code",
   "execution_count": 12,
   "metadata": {},
   "outputs": [
    {
     "data": {
      "text/plain": [
       "[<matplotlib.lines.Line2D at 0x2a0dec2e400>]"
      ]
     },
     "execution_count": 12,
     "metadata": {},
     "output_type": "execute_result"
    },
    {
     "data": {
      "image/png": "[encoded data removed]",
      "text/plain": [
       "<Figure size 432x288 with 1 Axes>"
      ]
     },
     "metadata": {
      "needs_background": "light"
     },
     "output_type": "display_data"
    }
   ],
   "source": [
    "# RK2 energies\n",
    "\n",
    "plt.plot(RK2vals[0][3],RK2vals[0][0],label = 'h0 KE')\n",
    "plt.plot(RK2vals[0][4],RK2vals[0][2],label = 'h0 PE')\n",
    "plt.plot(RK2vals[0][5],RK2vals[0][2],label = 'h0 TE')\n",
    "\n",
    "plt.plot(RK2vals[10][3],RK2vals[10][0],label = 'h0/1024 KE')\n",
    "plt.plot(RK2vals[10][4],RK2vals[10][2],label = 'h0/1024 PE')\n",
    "plt.plot(RK2vals[10][5],RK2vals[10][2],label = 'h0/1024 TE')"
   ]
  },
  {
   "cell_type": "code",
   "execution_count": 13,
   "metadata": {},
   "outputs": [
    {
     "data": {
      "text/plain": [
       "[<matplotlib.lines.Line2D at 0x2a0decb5e50>]"
      ]
     },
     "execution_count": 13,
     "metadata": {},
     "output_type": "execute_result"
    },
    {
     "data": {
      "image/png": "[encoded data removed]",
      "text/plain": [
       "<Figure size 432x288 with 2 Axes>"
      ]
     },
     "metadata": {
      "needs_background": "light"
     },
     "output_type": "display_data"
    }
   ],
   "source": [
    "# RK4 orbits\n",
    "\n",
    "plt.subplot(121)\n",
    "plt.plot(RK4vals[0][1],RK4vals[0][2])\n",
    "\n",
    "plt.subplot(122)\n",
    "plt.plot(RK4vals[10][1],RK4vals[10][2])"
   ]
  },
  {
   "cell_type": "code",
   "execution_count": 14,
   "metadata": {},
   "outputs": [
    {
     "data": {
      "text/plain": [
       "[<matplotlib.lines.Line2D at 0x2a0ded369d0>]"
      ]
     },
     "execution_count": 14,
     "metadata": {},
     "output_type": "execute_result"
    },
    {
     "data": {
      "image/png": "[encoded data removed]",
      "text/plain": [
       "<Figure size 432x288 with 1 Axes>"
      ]
     },
     "metadata": {
      "needs_background": "light"
     },
     "output_type": "display_data"
    }
   ],
   "source": [
    "# RK4 energies\n",
    "\n",
    "plt.plot(RK4vals[0][3],RK4vals[0][0],label = 'h0 KE')\n",
    "plt.plot(RK4vals[0][4],RK4vals[0][2],label = 'h0 PE')\n",
    "plt.plot(RK4vals[0][5],RK4vals[0][2],label = 'h0 TE')\n",
    "\n",
    "plt.plot(RK4vals[10][3],RK4vals[10][0],label = 'h0/1024 KE')\n",
    "plt.plot(RK4vals[10][4],RK4vals[10][2],label = 'h0/1024 PE')\n",
    "plt.plot(RK4vals[10][5],RK4vals[10][2],label = 'h0/1024 TE')"
   ]
  },
  {
   "cell_type": "markdown",
   "metadata": {},
   "source": [
    "### <u>_Discussion/Conclusion_\n",
    "\n"
   ]
  },
  {
   "cell_type": "markdown",
   "metadata": {},
   "source": []
  }
 ],
 "metadata": {
  "kernelspec": {
   "display_name": "Python 3 (ipykernel)",
   "language": "python",
   "name": "python3"
  },
  "language_info": {
   "codemirror_mode": {
    "name": "ipython",
    "version": 3
   },
   "file_extension": ".py",
   "mimetype": "text/x-python",
   "name": "python",
   "nbconvert_exporter": "python",
   "pygments_lexer": "ipython3",
   "version": "3.8.12"
  },
  "vscode": {
   "interpreter": {
    "hash": "e269d2b22b801ce5f0f55660d08852098b490b7ee086c0da2630135ffa9c1e82"
   }
  }
 },
 "nbformat": 4,
 "nbformat_minor": 2
}

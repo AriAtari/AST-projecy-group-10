{
 "cells": [
  {
   "cell_type": "markdown",
   "metadata": {},
   "source": [
    "## AST Project 1\n",
    "### Collaborators: 'Oswald, Emma Jo', 'Kho, Jonathan Andrew', 'Andalib, Arian Alexander', 'Stone, Ashley Taylor'\n",
    "### Michigan State University\n",
    "### AST 304"
   ]
  },
  {
   "cell_type": "code",
   "execution_count": 1,
   "metadata": {},
   "outputs": [],
   "source": [
    "########################################################################\n",
    "# Team Spectacular Stellars: 'Oswald, Emma Jo', 'Kho, Jonathan Andrew', 'Andalib, Arian Alexander', 'Stone, Ashley Taylor'\n",
    "# AST 304, Fall 2022\n",
    "# Michigan State University\n",
    "########################################################################\n",
    "\n",
    "# The libraries used\n",
    "import matplotlib.pyplot as plt\n",
    "import numpy as np\n",
    "import pandas as pd\n",
    "import scipy.constants as sc\n",
    "%matplotlib inline"
   ]
  },
  {
   "cell_type": "markdown",
   "metadata": {},
   "source": [
    "\n",
    "### <u> _Problems and the Results:_"
   ]
  },
  {
   "cell_type": "markdown",
   "metadata": {},
   "source": [
    "##### 1. Implement routines that advance the solution to a system of ODE’s by one step h for the forward Euler, second-order Runge-Kutta, and fourth3 AST 304 Group Computational Project  order Runge-Kutta. The partially completed routines are in the file ode.py in your project repository. Once you have the routines written, you will need to test them. The file test_ode.py. This test integrates the simpler system of equations\n",
    "$$z(t = 0) = {0.0, 1.0}, \\\\ f(t, z, ω) = {\\omega z1, −\\omega z0} \\\\ (13) $$ \n",
    "##### for which you can verify that the solution is z(t) = {sin(ωt), cos(ωt)}. Run test_ode.py and compare the output of this test with the file sample_output. They should be close."
   ]
  },
  {
   "cell_type": "markdown",
   "metadata": {},
   "source": [
    "##### 2. Next, complete the functions in kepler.py that compute the kinetic, potential, and total energies, all per unit reduced mass, as well as the function\n",
    "def derivs(t,z,m):\n",
    "##### which computes dr/dt, dv/dt following eq. [7]."
   ]
  },
  {
   "cell_type": "markdown",
   "metadata": {},
   "source": [
    "##### 3.  Also in the file kepler.py you will find a routine\n",
    " def integrate_orbit(z0,m,tend,h,method=’RK4’):\n",
    "##### that integrates the equations of motion from 0 < t ≤ tend. Notice that this routine takes an optional parameter method with default value ’RK4’:if you call the routine with method=’Euler’ it will use the ode.f Euler method, and similarly for ’RK2’ and ’RK4’. This allows you to switch between integration methods without having to rewrite code. Finally,there is a routine\n",
    "def set_initial_conditions(a, m, e):\n",
    "##### that computes the initial position and velocity, as well as the energy and orbital period, given the semi-major axis, mass, and eccentricity.You will need to complete the routines in kepler.py, including the documentation."
   ]
  },
  {
   "cell_type": "markdown",
   "metadata": {},
   "source": [
    "##### 4. Write a python script that uses the functions in ode.py and kepler.py to do the following. For each of the three integration methods, integrate the equations of motion over 3 orbital periods, and compute the relative error in the total energy at the end of this time. Take the semi-major axis a = 1 and total mass m = 1. Make the ellipse have an eccentricity of e = 0.5 so that x0 = (1 + e)a = 1.5a. Do each integration for a range of step sizes h =h0, h0/2, h0/4, . . . h0/1024, where h0 = 0.1 T with T being the expected orbital period. Plot the error in the energy as a function of h. Does it scale as expected? Is it better to use linear or logarithmic axes in plotting the error?"
   ]
  },
  {
   "cell_type": "code",
   "execution_count": 1,
   "metadata": {},
   "outputs": [],
   "source": [
    "from ode import * # fEuler, rk2, rk4\n",
    "from kepler import * # kinetic_energy, potential_energy, total_energy, derivs, integrate_orbit, set_initial_conditions, integration_methods\n",
    "import numpy as np\n",
    "import matplotlib.pyplot as plt\n",
    "\n",
    "# Initial setup\n",
    "a = 1 # AU\n",
    "m = 1 # Solar mass\n",
    "e = 0.5 # Eccentricity\n",
    "G = 6.6743*10**-11 # Gravitational constant\n",
    "\n",
    "init, eps0, T = set_initial_conditions(a,m,e)\n",
    "\n",
    "# Expected energy of the system\n",
    "Energy = total_energy(init,m)\n",
    "\n",
    "h0 = 0.1*T # T = expected orbital period\n",
    "\n",
    "sizes = [2**x for x in range(0,11)]\n",
    "steps = [h0/n for n in sizes]"
   ]
  },
  {
   "cell_type": "code",
   "execution_count": 3,
   "metadata": {},
   "outputs": [],
   "source": [
    "# fEuler \n",
    "\n",
    "# List with position, velocity, energy, and times for all step sizes\n",
    "Eulervals = []\n",
    "\n",
    "for i in range(len(steps)):\n",
    "    ts, Xs, Ys, KEs, PEs, TEs = integrate_orbit(z0 = init,m=m,tend = 3*T,h = steps[i],method='Euler')\n",
    "    \n",
    "    Eulervals.append([ts,Xs,Ys,KEs,PEs,TEs])"
   ]
  },
  {
   "cell_type": "code",
   "execution_count": 13,
   "metadata": {},
   "outputs": [
    {
     "data": {
      "text/plain": [
       "Text(0.5, 1.0, 'Relative Error in Energy vs. step size for Forward Euler')"
      ]
     },
     "execution_count": 13,
     "metadata": {},
     "output_type": "execute_result"
    },
    {
     "data": {
      "image/png": "[encoded data removed]",
      "text/plain": [
       "<Figure size 432x288 with 1 Axes>"
      ]
     },
     "metadata": {
      "needs_background": "light"
     },
     "output_type": "display_data"
    }
   ],
   "source": [
    "plt.scatter(steps[0],Eulervals[0][-1][-1]-Energy,s = 10,color = 'b')\n",
    "plt.scatter(steps[1],Eulervals[1][-1][-1]-Energy,s = 10,color = 'b')\n",
    "plt.scatter(steps[2],Eulervals[2][-1][-1]-Energy,s = 10,color = 'b')\n",
    "plt.scatter(steps[3],Eulervals[3][-1][-1]-Energy,s = 10,color = 'b')\n",
    "plt.scatter(steps[4],Eulervals[4][-1][-1]-Energy,s = 10,color = 'b')\n",
    "plt.scatter(steps[5],Eulervals[5][-1][-1]-Energy,s = 10,color = 'b')\n",
    "plt.scatter(steps[6],Eulervals[6][-1][-1]-Energy,s = 10,color = 'b')\n",
    "plt.scatter(steps[7],Eulervals[7][-1][-1]-Energy,s = 10,color = 'b')\n",
    "plt.scatter(steps[8],Eulervals[8][-1][-1]-Energy,s = 10,color = 'b')\n",
    "plt.scatter(steps[9],Eulervals[9][-1][-1]-Energy,s = 10,color = 'b')\n",
    "plt.scatter(steps[10],Eulervals[10][-1][-1]-Energy,s = 10,color = 'b')\n",
    "plt.xlabel('Step size [s]')\n",
    "plt.ylabel('Relative Error in total energy')\n",
    "plt.title('Relative Error in Energy vs. step size for Forward Euler')"
   ]
  },
  {
   "cell_type": "code",
   "execution_count": 14,
   "metadata": {},
   "outputs": [
    {
     "name": "stderr",
     "output_type": "stream",
     "text": [
      "/Users/jkho/Documents/MSU Fall 2022/AST 304/AST-projecy-group-10/kepler.py:97: RuntimeWarning: overflow encountered in double_scalars\n",
      "  ax = -m/r_current**3*norm_x\n",
      "/Users/jkho/Documents/MSU Fall 2022/AST 304/AST-projecy-group-10/kepler.py:98: RuntimeWarning: overflow encountered in double_scalars\n",
      "  ay = -m/r_current**3*norm_y\n",
      "/Users/jkho/Documents/MSU Fall 2022/AST 304/AST-projecy-group-10/kepler.py:98: RuntimeWarning: invalid value encountered in double_scalars\n",
      "  ay = -m/r_current**3*norm_y\n",
      "/Users/jkho/Documents/MSU Fall 2022/AST 304/AST-projecy-group-10/kepler.py:97: RuntimeWarning: invalid value encountered in double_scalars\n",
      "  ax = -m/r_current**3*norm_x\n"
     ]
    }
   ],
   "source": [
    "# RK2\n",
    "\n",
    "# List with position, velocity, energy, and times for all step sizes\n",
    "RK2vals = []\n",
    "\n",
    "for i in range(len(steps)):\n",
    "    ts, Xs, Ys, KEs, PEs, TEs = integrate_orbit(z0 = init,m=m,tend = 3*T,h = steps[i],method='RK2')\n",
    "    \n",
    "    RK2vals.append([ts,Xs,Ys,KEs,PEs,TEs])"
   ]
  },
  {
   "cell_type": "code",
   "execution_count": 18,
   "metadata": {},
   "outputs": [
    {
     "data": {
      "text/plain": [
       "Text(0.5, 1.0, 'Relative Error in Energy vs. step size for RK2')"
      ]
     },
     "execution_count": 18,
     "metadata": {},
     "output_type": "execute_result"
    },
    {
     "data": {
      "image/png": "[encoded data removed]",
      "text/plain": [
       "<Figure size 432x288 with 1 Axes>"
      ]
     },
     "metadata": {
      "needs_background": "light"
     },
     "output_type": "display_data"
    }
   ],
   "source": [
    "plt.scatter(steps[0],RK2vals[0][-1][-1]-Energy,s = 10,color = 'b')\n",
    "plt.scatter(steps[1],RK2vals[1][-1][-1]-Energy,s = 10,color = 'b')\n",
    "plt.scatter(steps[2],RK2vals[2][-1][-1]-Energy,s = 10,color = 'b')\n",
    "plt.scatter(steps[3],RK2vals[3][-1][-1]-Energy,s = 10,color = 'b')\n",
    "plt.scatter(steps[4],RK2vals[4][-1][-1]-Energy,s = 10,color = 'b')\n",
    "plt.scatter(steps[5],RK2vals[5][-1][-1]-Energy,s = 10,color = 'b')\n",
    "plt.scatter(steps[6],RK2vals[6][-1][-1]-Energy,s = 10,color = 'b')\n",
    "plt.scatter(steps[7],RK2vals[7][-1][-1]-Energy,s = 10,color = 'b')\n",
    "plt.scatter(steps[8],RK2vals[8][-1][-1]-Energy,s = 10,color = 'b')\n",
    "plt.scatter(steps[9],RK2vals[9][-1][-1]-Energy,s = 10,color = 'b')\n",
    "plt.scatter(steps[10],RK2vals[10][-1][-1]-Energy,s = 10,color = 'b')\n",
    "plt.xlabel('Step size [s]')\n",
    "plt.ylabel('Relative Error in total energy')\n",
    "plt.title('Relative Error in Energy vs. step size for RK2')"
   ]
  },
  {
   "cell_type": "code",
   "execution_count": 19,
   "metadata": {},
   "outputs": [],
   "source": [
    "# RK4\n",
    "\n",
    "# List with position, velocity, energy, and times for all step sizes\n",
    "RK4vals = []\n",
    "\n",
    "for i in range(len(steps)):\n",
    "    ts, Xs, Ys, KEs, PEs, TEs = integrate_orbit(z0 = init,m=m,tend = 3*T,h = steps[i],method='RK4')\n",
    "    \n",
    "    RK4vals.append([ts,Xs,Ys,KEs,PEs,TEs])"
   ]
  },
  {
   "cell_type": "code",
   "execution_count": 20,
   "metadata": {},
   "outputs": [
    {
     "data": {
      "text/plain": [
       "Text(0.5, 1.0, 'Relative Error in Energy vs. step size for RK4')"
      ]
     },
     "execution_count": 20,
     "metadata": {},
     "output_type": "execute_result"
    },
    {
     "data": {
      "image/png": "[encoded data removed]",
      "text/plain": [
       "<Figure size 432x288 with 1 Axes>"
      ]
     },
     "metadata": {
      "needs_background": "light"
     },
     "output_type": "display_data"
    }
   ],
   "source": [
    "plt.scatter(steps[0],RK4vals[0][-1][-1]-Energy,s = 10,color = 'b')\n",
    "plt.scatter(steps[1],RK4vals[1][-1][-1]-Energy,s = 10,color = 'b')\n",
    "plt.scatter(steps[2],RK4vals[2][-1][-1]-Energy,s = 10,color = 'b')\n",
    "plt.scatter(steps[3],RK4vals[3][-1][-1]-Energy,s = 10,color = 'b')\n",
    "plt.scatter(steps[4],RK4vals[4][-1][-1]-Energy,s = 10,color = 'b')\n",
    "plt.scatter(steps[5],RK4vals[5][-1][-1]-Energy,s = 10,color = 'b')\n",
    "plt.scatter(steps[6],RK4vals[6][-1][-1]-Energy,s = 10,color = 'b')\n",
    "plt.scatter(steps[7],RK4vals[7][-1][-1]-Energy,s = 10,color = 'b')\n",
    "plt.scatter(steps[8],RK4vals[8][-1][-1]-Energy,s = 10,color = 'b')\n",
    "plt.scatter(steps[9],RK4vals[9][-1][-1]-Energy,s = 10,color = 'b')\n",
    "plt.scatter(steps[10],RK4vals[10][-1][-1]-Energy,s = 10,color = 'b')\n",
    "plt.xlabel('Step size [s]')\n",
    "plt.ylabel('Relative Error in total energy')\n",
    "plt.title('Relative Error in Energy vs. step size for RK4')"
   ]
  },
  {
   "cell_type": "markdown",
   "metadata": {},
   "source": [
    "##### 5. For the smallest and largest values of h for each of the three integration methods, plot the particle trajectory. Does the orbit close? Is it an ellipse? Does it have the correct semi-major axis? Also plot the energies— potential, kinetic, and total—as a function of time. Put the energies all on the same plot.\n"
   ]
  },
  {
   "cell_type": "code",
   "execution_count": null,
   "metadata": {},
   "outputs": [],
   "source": [
    "# Euler orbits\n",
    "\n",
    "plt.subplot(121)\n",
    "plt.plot(Eulervals[0][1],Eulervals[0][2])\n",
    "\n",
    "plt.subplot(122)\n",
    "plt.plot(Eulervals[10][1],Eulervals[10][2])"
   ]
  },
  {
   "cell_type": "code",
   "execution_count": null,
   "metadata": {},
   "outputs": [],
   "source": [
    "# Euler energies\n",
    "\n",
    "plt.plot(Eulervals[0][3],Eulervals[0][0],label = 'h0 KE')\n",
    "plt.plot(Eulervals[0][4],Eulervals[0][2],label = 'h0 PE')\n",
    "plt.plot(Eulervals[0][5],Eulervals[0][2],label = 'h0 TE')\n",
    "\n",
    "plt.plot(Eulervals[10][3],Eulervals[10][0],label = 'h0/1024 KE')\n",
    "plt.plot(Eulervals[10][4],Eulervals[10][2],label = 'h0/1024 PE')\n",
    "plt.plot(Eulervals[10][5],Eulervals[10][2],label = 'h0/1024 TE')"
   ]
  },
  {
   "cell_type": "code",
   "execution_count": null,
   "metadata": {},
   "outputs": [],
   "source": [
    "# RK2 orbits\n",
    "\n",
    "plt.subplot(121)\n",
    "plt.plot(RK2vals[0][1],RK2vals[0][2])\n",
    "\n",
    "plt.subplot(122)\n",
    "plt.plot(RK2vals[10][1],RK2vals[10][2])"
   ]
  },
  {
   "cell_type": "code",
   "execution_count": null,
   "metadata": {},
   "outputs": [],
   "source": [
    "# RK2 energies\n",
    "\n",
    "plt.plot(RK2vals[0][3],RK2vals[0][0],label = 'h0 KE')\n",
    "plt.plot(RK2vals[0][4],RK2vals[0][2],label = 'h0 PE')\n",
    "plt.plot(RK2vals[0][5],RK2vals[0][2],label = 'h0 TE')\n",
    "\n",
    "plt.plot(RK2vals[10][3],RK2vals[10][0],label = 'h0/1024 KE')\n",
    "plt.plot(RK2vals[10][4],RK2vals[10][2],label = 'h0/1024 PE')\n",
    "plt.plot(RK2vals[10][5],RK2vals[10][2],label = 'h0/1024 TE')"
   ]
  },
  {
   "cell_type": "code",
   "execution_count": null,
   "metadata": {},
   "outputs": [],
   "source": [
    "# RK4 orbits\n",
    "\n",
    "plt.subplot(121)\n",
    "plt.plot(RK4vals[0][1],RK4vals[0][2])\n",
    "\n",
    "plt.subplot(122)\n",
    "plt.plot(RK4vals[10][1],RK4vals[10][2])"
   ]
  },
  {
   "cell_type": "code",
   "execution_count": null,
   "metadata": {},
   "outputs": [],
   "source": [
    "# RK4 energies\n",
    "\n",
    "plt.plot(RK4vals[0][3],RK4vals[0][0],label = 'h0 KE')\n",
    "plt.plot(RK4vals[0][4],RK4vals[0][2],label = 'h0 PE')\n",
    "plt.plot(RK4vals[0][5],RK4vals[0][2],label = 'h0 TE')\n",
    "\n",
    "plt.plot(RK4vals[10][3],RK4vals[10][0],label = 'h0/1024 KE')\n",
    "plt.plot(RK4vals[10][4],RK4vals[10][2],label = 'h0/1024 PE')\n",
    "plt.plot(RK4vals[10][5],RK4vals[10][2],label = 'h0/1024 TE')"
   ]
  },
  {
   "cell_type": "markdown",
   "metadata": {},
   "source": [
    "### <u>_Discussion/Conclusion_\n",
    "\n"
   ]
  },
  {
   "cell_type": "markdown",
   "metadata": {},
   "source": []
  },
  {
   "cell_type": "markdown",
   "metadata": {},
   "source": [
    "### <u>_Reference:_ "
   ]
  },
  {
   "cell_type": "markdown",
   "metadata": {},
   "source": [
    "(any reference material used for project)"
   ]
  }
 ],
 "metadata": {
  "kernelspec": {
   "display_name": "Python 3 (ipykernel)",
   "language": "python",
   "name": "python3"
  },
  "language_info": {
   "codemirror_mode": {
    "name": "ipython",
    "version": 3
   },
   "file_extension": ".py",
   "mimetype": "text/x-python",
   "name": "python",
   "nbconvert_exporter": "python",
   "pygments_lexer": "ipython3",
   "version": "3.8.12"
  },
  "vscode": {
   "interpreter": {
    "hash": "e269d2b22b801ce5f0f55660d08852098b490b7ee086c0da2630135ffa9c1e82"
   }
  }
 },
 "nbformat": 4,
 "nbformat_minor": 2
}
